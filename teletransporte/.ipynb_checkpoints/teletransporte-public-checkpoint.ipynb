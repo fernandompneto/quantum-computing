{
 "cells": [
  {
   "cell_type": "markdown",
   "metadata": {},
   "source": [
    "# Teletransporte Quântico"
   ]
  },
  {
   "cell_type": "markdown",
   "metadata": {},
   "source": [
    "_Tutorial criado por Fernando M de Paula Neto (fernando@cin.ufpe.br) para fins didáticos._"
   ]
  },
  {
   "cell_type": "markdown",
   "metadata": {},
   "source": [
    "O teletransporte quântico é um algoritmo didático bastante estudado para entender a importância dos estados emaranhados.\n",
    "O algoritmo serve para transferir um estado quântico de um lugar para outro (de um lugar X para outro Y).\n",
    "\n",
    "Tendo em vista que a quantidade de informação quântica em um estado é infinita, porque os parâmetros variam no domínio contínuo, anotar todos os valores e transferí-los resultaria em um trabalho infinito. Além de tudo isso, a mecânica quântica não permite acessar todas essas informações. Elas estão escondidas na matemática da natureza - na linguagem da física \"esses valores não são observáveis\".\n",
    "\n",
    "O que podemos fazer é transferir o estado exatamente como armazenamos. Para isso, precisamos de um estado emaranhado (estado de Bell) e um canal clássico (ou seja, conseguir transferir uma quantidade bem limitada informação clássica de X para Y). Aqui, em nosso exemplo, como vamos transferir um estado quântico, é preciso transferir apenas dois bits clássicos para concluir corretamente a operação.\n",
    "\n",
    "Vamos dar um exemplo.\n",
    "Imagine que tenho aqui em Recife um experimento de um estado quântico (E) e eu preciso transferí-lo para meu amigo cientista Russell que está na Inglaterra.\n",
    "Primeiramente, eu e Russell precisamos ter compartilhado um par emaranhado de Bell, $1/\\sqrt(2) * (|00> + |11>)$.\n",
    "Eu carregando o primeiro estado e meu amigo o segundo estado. \n",
    "Em seguida, faço uma iteração de (E) com meu estado de Bell. Depois, realizo uma medição no estado em que eu quero transferir (E) e meu estado de Bell.\n",
    "Acredite, parece que eu perdi a informação de (E) por eu ter feito a leitura, mas não, ela pode ser recuperada por Russell se eu for capaz de dizer a ele quais os dois valores resultantes da minha medição - dois bits clássicos.\n",
    "\n",
    "Neste tutorial iremos apresentar a implementação desse algoritmo na forma de circuito quântico, utilizando a linguagem Qiskit da IBM para implementar algoritmos quânticos.\n",
    "\n",
    "No final, iremos mostrar a simulação desse circuito no computador quântico de pequena escala da IBM. Apesar de ruidoso, a saída é bastante plausível para o experimento.\n",
    "\n",
    "That's all!"
   ]
  },
  {
   "cell_type": "markdown",
   "metadata": {},
   "source": [
    "### Importando as bibliotecas"
   ]
  },
  {
   "cell_type": "markdown",
   "metadata": {},
   "source": [
    "Primeiro, importamos as funções que iremos precisar para realizar essa tarefa."
   ]
  },
  {
   "cell_type": "code",
   "execution_count": 154,
   "metadata": {},
   "outputs": [],
   "source": [
    "from qiskit import QuantumCircuit #essa função define um circuito quântico para realizarmos as operações\n",
    "from qiskit import ClassicalRegister #essa função declara registradores clássicos\n",
    "from qiskit import QuantumRegister #essa função declara registradores clássicos\n",
    "\n",
    "\n",
    "from qiskit import BasicAer, execute #BasicAer cria um ambiente de simulação.\n",
    "                                     #execute permite executar a simulação\n",
    "from qiskit.tools.visualization import * #biblioteca para visualizar circuito, histograma, etc\n",
    "\n",
    "\n",
    "backendSimulador = BasicAer.get_backend('qasm_simulator') #criando o ambiente de simulação\n"
   ]
  },
  {
   "cell_type": "markdown",
   "metadata": {},
   "source": [
    "### Definido os registradores"
   ]
  },
  {
   "cell_type": "markdown",
   "metadata": {},
   "source": [
    "Em nosso exemplo, vamos usar os nomes sempre usados nas disciplinas de comunicação. (Alice) quer transmistir informação quântica para (Bob).\n",
    "\n",
    "Para isso, vamos declarar 2 registradores quânticos.\n",
    "O primeiro armazena 1 qubit e vamos chamar de |psi>, que é o estado quântico que iremos transferir.\n",
    "O segundo registrador é o |bell> que irá armazenar um estado de Bell e possui 2 qubits.\n",
    "\n",
    "Vamos declarar 3 registradores clássicos.\n",
    "alice_reading0 e alice_reading1 irão armazenar a leitura realizada por Alice.\n",
    "read_bob irá armazenar a leitura realizada por Bob do estado quântico |psi> transferido.\n",
    "\n",
    "O circuito é então definido usando esses registradores."
   ]
  },
  {
   "cell_type": "code",
   "execution_count": 155,
   "metadata": {},
   "outputs": [],
   "source": [
    "q_psi = QuantumRegister(1, 'psi')\n",
    "q_bell = QuantumRegister(2, 'bell')\n",
    "read_alice0 = ClassicalRegister(1, 'alice_reading0')\n",
    "read_alice1 = ClassicalRegister(1, 'alice_reading1')\n",
    "read_bob = ClassicalRegister(1, 'bob_reading')\n",
    "\n",
    "circuito = QuantumCircuit(q_psi, q_bell, read_alice0, read_alice1, read_bob)"
   ]
  },
  {
   "cell_type": "markdown",
   "metadata": {},
   "source": [
    "## Inicialização dos estados quânticos"
   ]
  },
  {
   "cell_type": "markdown",
   "metadata": {},
   "source": [
    "Vamos preparar o estado de Bell no estado quântico |bell>.\n",
    "\n",
    "Na prática, consideramos que esse estado emaranhado está compartilhado entre Alice e Bob. Cada um possui um dos estados quânticos do Bell."
   ]
  },
  {
   "cell_type": "code",
   "execution_count": 156,
   "metadata": {},
   "outputs": [
    {
     "data": {
      "text/plain": [
       "<qiskit.circuit.instructionset.InstructionSet at 0x1a2b720908>"
      ]
     },
     "execution_count": 156,
     "metadata": {},
     "output_type": "execute_result"
    }
   ],
   "source": [
    "#preparing Bell states\n",
    "\n",
    "circuito.iden(q_psi)\n",
    "circuito.h(q_bell[0])\n",
    "circuito.iden(q_bell[1])\n",
    "circuito.iden(q_psi)\n",
    "circuito.cx(q_bell[0], q_bell[1])\n",
    "circuito.barrier()"
   ]
  },
  {
   "cell_type": "markdown",
   "metadata": {},
   "source": [
    "Vamos preparar o estado |psi> a ser transferido. \n",
    "\n",
    "Como exemplo didático, aqui, vamos teletransportar | psi > = | 1 > "
   ]
  },
  {
   "cell_type": "code",
   "execution_count": 157,
   "metadata": {},
   "outputs": [
    {
     "data": {
      "text/plain": [
       "<qiskit.circuit.instructionset.InstructionSet at 0x1a2ca79940>"
      ]
     },
     "execution_count": 157,
     "metadata": {},
     "output_type": "execute_result"
    }
   ],
   "source": [
    "\n",
    "#preparing PSI state (to be teletransported)\n",
    "circuito.x(q_psi) #teletransporting |1>\n",
    "#circuito.u3(0.0, 0.1, 0.0, q_psi) #teletransporting U3|0>\n",
    "circuito.iden(q_bell[0])\n",
    "circuito.iden(q_bell[1])\n",
    "circuito.barrier()"
   ]
  },
  {
   "cell_type": "markdown",
   "metadata": {},
   "source": [
    "## Circuito do teletransporte "
   ]
  },
  {
   "cell_type": "markdown",
   "metadata": {},
   "source": [
    "O circuito do teletransporte é descrito abaixo.\n",
    "\n",
    "Basicamente, iremos aplicar um CNOT entre o estado quantico a ser transferido |psi> e o primeiro dos estados de Bell que está com Alice, |bell>[0].\n",
    "\n",
    "Em seguida, aplicar um H no estado |psi>.\n",
    "\n",
    "Após isso, faremos uma medição no estado |psi> e no estado |bell>[0] que estão com Alice.\n",
    "\n"
   ]
  },
  {
   "attachments": {
    "teletransporte-circuito.png": {
     "image/png": "[encoded data removed]"
    }
   },
   "cell_type": "markdown",
   "metadata": {},
   "source": [
    "![teletransporte-circuito.png](attachment:teletransporte-circuito.png)"
   ]
  },
  {
   "cell_type": "code",
   "execution_count": 158,
   "metadata": {},
   "outputs": [
    {
     "data": {
      "text/plain": [
       "<qiskit.circuit.instructionset.InstructionSet at 0x1a2cb26128>"
      ]
     },
     "execution_count": 158,
     "metadata": {},
     "output_type": "execute_result"
    }
   ],
   "source": [
    "#teleport circuit\n",
    "# H & CN\n",
    "circuito.cx(q_psi, q_bell[0])\n",
    "circuito.iden(q_bell[1])\n",
    "circuito.h(q_psi)\n",
    "circuito.iden(q_bell[0])\n",
    "circuito.iden(q_bell[1])\n",
    "circuito.barrier()\n",
    "#MEASUREMENT AND CLASSICAL CONTROL\n",
    "circuito.measure(q_psi, read_alice0)\n",
    "circuito.measure(q_bell[0], read_alice1)"
   ]
  },
  {
   "cell_type": "markdown",
   "metadata": {},
   "source": [
    "## Alice avisa a Bob o que ela viu. Bob faz operações no seu qubit."
   ]
  },
  {
   "cell_type": "markdown",
   "metadata": {},
   "source": [
    "O conteúdo que é lido por alice em read_alice0 e read_alice1 precisa ser avisado a Bob. Por quê? Porque Bob talvez precise realizar alguma operação no qubit que está consigo para que ele de fato tenha o conteúdo de |psi>.\n",
    "\n",
    "Se o conteudo lido por Alice foi 00, Bob nao precisa fazer nada com seu estado emaranhado. Ele já armazena o estado |psi>. Teleporte realizado com sucesso!\n",
    "\n",
    "Se o conteudo lido foi 01, Bob precisa aplicar uma porta NOT (ou X) no seu estado. Logo em seguida, ele estará com o valor de |psi>.\n",
    "\n",
    "Se o conteúdo foi 10, Bob precisa aplicar uma porta Z no seu estado para ele ter o valor de |psi>.\n",
    "\n",
    "E por fim se o conteúdo lido foi 11, Bob precisa aplicar X e Z no seu estado. E pronto."
   ]
  },
  {
   "cell_type": "code",
   "execution_count": 159,
   "metadata": {},
   "outputs": [
    {
     "data": {
      "text/plain": [
       "<qiskit.circuit.instructionset.InstructionSet at 0x1a2cb262b0>"
      ]
     },
     "execution_count": 159,
     "metadata": {},
     "output_type": "execute_result"
    }
   ],
   "source": [
    "circuito.z(q_bell[1]).c_if(read_alice0, 1)\n",
    "circuito.x(q_bell[1]).c_if(read_alice1, 1)\n",
    "circuito.measure(q_bell[1], read_bob[0])\n",
    "circuito.barrier()"
   ]
  },
  {
   "cell_type": "markdown",
   "metadata": {},
   "source": [
    "Podemos ver como ficou nosso circuito."
   ]
  },
  {
   "cell_type": "code",
   "execution_count": 160,
   "metadata": {},
   "outputs": [
    {
     "data": {
      "text/html": [
       "<pre style=\"word-wrap: normal;white-space: pre;background: #fff0;line-height: 1.1;font-family: &quot;Courier New&quot;,Courier,monospace\">                    ┌────┐┌────┐ ░ ┌───┐  ░       ┌───┐  ░ ┌─┐                 »\n",
       "          psi_0: |0>┤ Id ├┤ Id ├─░─┤ X ├──░───■───┤ H ├──░─┤M├─────────────────»\n",
       "                    ├───┬┘└────┘ ░ ├───┴┐ ░ ┌─┴─┐ ├───┴┐ ░ └╥┘┌─┐              »\n",
       "         bell_0: |0>┤ H ├───■────░─┤ Id ├─░─┤ X ├─┤ Id ├─░──╫─┤M├──────────────»\n",
       "                    ├───┴┐┌─┴─┐  ░ ├────┤ ░ ├───┴┐├────┤ ░  ║ └╥┘ ┌───┐  ┌───┐ »\n",
       "         bell_1: |0>┤ Id ├┤ X ├──░─┤ Id ├─░─┤ Id ├┤ Id ├─░──╫──╫──┤ Z ├──┤ X ├─»\n",
       "                    └────┘└───┘  ░ └────┘ ░ └────┘└────┘ ░  ║  ║  └─┬─┘  └─┬─┘ »\n",
       "                                                            ║    ┌──┴──┐   │   »\n",
       "alice_reading0_0: 0 ════════════════════════════════════════╩════╡ = 1 ╞═══╪═══»\n",
       "                                                               ║ └─────┘┌──┴──┐»\n",
       "alice_reading1_0: 0 ═══════════════════════════════════════════╩════════╡ = 1 ╞»\n",
       "                                                                        └─────┘»\n",
       "   bob_reading_0: 0 ═══════════════════════════════════════════════════════════»\n",
       "                                                                               »\n",
       "«                      ░ \n",
       "«           psi_0: ────░─\n",
       "«                      ░ \n",
       "«          bell_0: ────░─\n",
       "«                  ┌─┐ ░ \n",
       "«          bell_1: ┤M├─░─\n",
       "«                  └╥┘ ░ \n",
       "«alice_reading0_0: ═╬════\n",
       "«                   ║    \n",
       "«alice_reading1_0: ═╬════\n",
       "«                   ║    \n",
       "«   bob_reading_0: ═╩════\n",
       "«                        </pre>"
      ],
      "text/plain": [
       "<qiskit.visualization.text.TextDrawing at 0x1a2b8978d0>"
      ]
     },
     "execution_count": 160,
     "metadata": {},
     "output_type": "execute_result"
    }
   ],
   "source": [
    "#circuito.draw(output='mpl')\n",
    "#circuit_drawer(circuito)\n",
    "circuito.draw()\n"
   ]
  },
  {
   "cell_type": "markdown",
   "metadata": {},
   "source": [
    "A função qasm retorna o código QASM do computador da IBm, uma espécie de código assembly quântico."
   ]
  },
  {
   "cell_type": "code",
   "execution_count": 161,
   "metadata": {},
   "outputs": [
    {
     "name": "stdout",
     "output_type": "stream",
     "text": [
      "OPENQASM 2.0;\n",
      "include \"qelib1.inc\";\n",
      "qreg psi[1];\n",
      "qreg bell[2];\n",
      "creg alice_reading0[1];\n",
      "creg alice_reading1[1];\n",
      "creg bob_reading[1];\n",
      "id psi[0];\n",
      "h bell[0];\n",
      "id bell[1];\n",
      "id psi[0];\n",
      "cx bell[0],bell[1];\n",
      "barrier psi[0],bell[0],bell[1];\n",
      "x psi[0];\n",
      "id bell[0];\n",
      "id bell[1];\n",
      "barrier psi[0],bell[0],bell[1];\n",
      "cx psi[0],bell[0];\n",
      "id bell[1];\n",
      "h psi[0];\n",
      "id bell[0];\n",
      "id bell[1];\n",
      "barrier psi[0],bell[0],bell[1];\n",
      "measure psi[0] -> alice_reading0[0];\n",
      "measure bell[0] -> alice_reading1[0];\n",
      "if(alice_reading0==1) z bell[1];\n",
      "if(alice_reading1==1) x bell[1];\n",
      "measure bell[1] -> bob_reading[0];\n",
      "barrier psi[0],bell[0],bell[1];\n",
      "\n"
     ]
    }
   ],
   "source": [
    "codigo_qasm = circuito.qasm()\n",
    "print(codigo_qasm)"
   ]
  },
  {
   "cell_type": "markdown",
   "metadata": {},
   "source": [
    "## Simulando e vendo os resultados"
   ]
  },
  {
   "cell_type": "markdown",
   "metadata": {},
   "source": [
    "Podemos executar esse circuito 1024 vezes e ver o histograma de frequência dos estados quânticos na leitura.\n",
    "\n",
    "Perceba que há quase uma distribuicao uniforme entre os estados 001, 101, 011 e 111 (sim, o computador da IBM representa os qubits de trás para frente). Nesta ordem que eu escrevi aqui, estão os registradores alice_reading0, alice_reading1, bob_reading. O que nos interessa é o bob_reading. Na ordem que a IBM apresenta no histograma, bob_reading está na primeira posição.\n",
    "\n",
    "Desse resultado do histograma, vemos que o primeiro qubit de leitura é sempre 1. Como configuramos nosso circuito para transferir o |psi>=|1>, nosso experimento está coerente.\n",
    "\n",
    "Faça o teste voce mesmo modificando o valor de |psi> e veja o que acontece!\n",
    "\n",
    "Ainda não é possível realizar essas operações no computador de pequena escala da IBM, por isso que essas operações foram apenas simuladas."
   ]
  },
  {
   "cell_type": "code",
   "execution_count": 162,
   "metadata": {},
   "outputs": [
    {
     "name": "stdout",
     "output_type": "stream",
     "text": [
      "{'1 1 0': 259, '1 1 1': 265, '1 0 0': 262, '1 0 1': 238}\n"
     ]
    },
    {
     "data": {
      "image/png": "[encoded data removed]",
      "text/plain": [
       "<Figure size 504x360 with 1 Axes>"
      ]
     },
     "execution_count": 162,
     "metadata": {},
     "output_type": "execute_result"
    }
   ],
   "source": [
    "job = execute(circuito, backend=backendSimulador, shots=1024)\n",
    "\n",
    "result = job.result()\n",
    "print(result.get_counts(circuito))\n",
    "contagem = result.get_counts()\n",
    "plot_histogram(contagem)"
   ]
  },
  {
   "cell_type": "markdown",
   "metadata": {},
   "source": [
    "## Código completo"
   ]
  },
  {
   "cell_type": "code",
   "execution_count": null,
   "metadata": {},
   "outputs": [],
   "source": [
    "q_psi = QuantumRegister(1, 'psi')\n",
    "q_bell = QuantumRegister(2, 'bell')\n",
    "read_alice0 = ClassicalRegister(1, 'alice_reading0')\n",
    "read_alice1 = ClassicalRegister(1, 'alice_reading1')\n",
    "read_bob = ClassicalRegister(1, 'bob_reading')\n",
    "\n",
    "circuito = QuantumCircuit(q_psi, q_bell, read_alice0, read_alice1, read_bob)\n",
    "\n",
    "#preparing Bell states\n",
    "\n",
    "circuito.iden(q_psi)\n",
    "circuito.h(q_bell[0])\n",
    "circuito.iden(q_bell[1])\n",
    "circuito.iden(q_psi)\n",
    "circuito.cx(q_bell[0], q_bell[1])\n",
    "circuito.barrier()\n",
    "\n",
    "\n",
    "#preparing PSI state (to be teletransported)\n",
    "circuito.x(q_psi) #teletransporting |1>\n",
    "#circuito.u3(0.0, 0.1, 0.0, q_psi) #teletransporting U3|0>\n",
    "circuito.iden(q_bell[0])\n",
    "circuito.iden(q_bell[1])\n",
    "circuito.barrier()\n",
    "\n",
    "#teleport circuit\n",
    "# H & CN\n",
    "circuito.cx(q_psi, q_bell[0])\n",
    "circuito.iden(q_bell[1])\n",
    "circuito.h(q_psi)\n",
    "circuito.iden(q_bell[0])\n",
    "circuito.iden(q_bell[1])\n",
    "circuito.barrier()\n",
    "#MEASUREMENT AND CLASSICAL CONTROL\n",
    "circuito.measure(q_psi, read_alice0)\n",
    "circuito.measure(q_bell[0], read_alice1)\n",
    "circuito.measure(q_bell[1], read_bob)\n",
    "\n",
    "circuito.barrier()\n",
    "\n",
    "#circuito.draw(output='mpl')\n",
    "circuit_drawer(circuito)\n",
    "#circuito.draw()\n",
    "\n",
    "circuito.z(q_bell[1]).c_if(read_alice0, 1)\n",
    "circuito.x(q_bell[1]).c_if(read_alice1, 1)\n",
    "circuito.measure(q_bell[1], read_bob[0])\n",
    "circuito.barrier()\n",
    "\n",
    "job = execute(circuito, backend=backendSimulador, shots=1024)\n",
    "\n",
    "result = job.result()\n",
    "print(result.get_counts(circuito))\n",
    "contagem = result.get_counts()\n",
    "plot_histogram(contagem)"
   ]
  },
  {
   "cell_type": "markdown",
   "metadata": {},
   "source": [
    "## Simulação sem controles clássicos."
   ]
  },
  {
   "cell_type": "markdown",
   "metadata": {},
   "source": [
    "Podemos simular o mesmo código acima sem os controles clássicos. \n",
    "\n",
    "Isso implica dizer que vamos medir a saída dos três qubits sem fazer mudança no qubit de Bob. Perceba que a distribuição é a mesma."
   ]
  },
  {
   "cell_type": "code",
   "execution_count": 165,
   "metadata": {},
   "outputs": [
    {
     "name": "stdout",
     "output_type": "stream",
     "text": [
      "{'1 0 1': 271, '0 1 1': 260, '1 0 0': 252, '0 1 0': 241}\n"
     ]
    },
    {
     "data": {
      "image/png": "[encoded data removed]",
      "text/plain": [
       "<Figure size 504x360 with 1 Axes>"
      ]
     },
     "execution_count": 165,
     "metadata": {},
     "output_type": "execute_result"
    }
   ],
   "source": [
    "q_psi = QuantumRegister(1, 'psi')\n",
    "q_bell = QuantumRegister(2, 'bell')\n",
    "read_alice0 = ClassicalRegister(1, 'alice_reading0')\n",
    "read_alice1 = ClassicalRegister(1, 'alice_reading1')\n",
    "read_bob = ClassicalRegister(1, 'bob_reading')\n",
    "\n",
    "circuito = QuantumCircuit(q_psi, q_bell, read_alice0, read_alice1, read_bob)\n",
    "\n",
    "#preparing Bell states\n",
    "\n",
    "circuito.iden(q_psi)\n",
    "circuito.h(q_bell[0])\n",
    "circuito.iden(q_bell[1])\n",
    "circuito.iden(q_psi)\n",
    "circuito.cx(q_bell[0], q_bell[1])\n",
    "circuito.barrier()\n",
    "\n",
    "\n",
    "#preparing PSI state (to be teletransported)\n",
    "circuito.x(q_psi) #teletransporting |1>\n",
    "#circuito.u3(0.0, 0.1, 0.0, q_psi) #teletransporting U3|0>\n",
    "circuito.iden(q_bell[0])\n",
    "circuito.iden(q_bell[1])\n",
    "circuito.barrier()\n",
    "\n",
    "#teleport circuit\n",
    "# H & CN\n",
    "circuito.cx(q_psi, q_bell[0])\n",
    "circuito.iden(q_bell[1])\n",
    "circuito.h(q_psi)\n",
    "circuito.iden(q_bell[0])\n",
    "circuito.iden(q_bell[1])\n",
    "circuito.barrier()\n",
    "#MEASUREMENT AND CLASSICAL CONTROL\n",
    "circuito.measure(q_psi, read_alice0)\n",
    "circuito.measure(q_bell[0], read_alice1)\n",
    "circuito.measure(q_bell[1], read_bob)\n",
    "\n",
    "circuito.barrier()\n",
    "\n",
    "#circuito.draw(output='mpl')\n",
    "circuit_drawer(circuito)\n",
    "#circuito.draw()\n",
    "\n",
    "job = execute(circuito, backend=backendSimulador, shots=1024)\n",
    "\n",
    "result = job.result()\n",
    "print(result.get_counts(circuito))\n",
    "contagem = result.get_counts()\n",
    "plot_histogram(contagem)"
   ]
  },
  {
   "cell_type": "markdown",
   "metadata": {},
   "source": [
    "## Simulação no Computador da IBM sem os Controles Clássicos"
   ]
  },
  {
   "cell_type": "markdown",
   "metadata": {},
   "source": [
    "Para rodar no computador da IBM, precisamos retirar os controles clássicos.\n",
    "\n",
    "Perceba que por rodar em um computador quântico de baixa escala, a saída é ruidosa, mas ainda assim possui uma distribuição próxima à esperada."
   ]
  },
  {
   "cell_type": "code",
   "execution_count": 166,
   "metadata": {},
   "outputs": [
    {
     "name": "stderr",
     "output_type": "stream",
     "text": [
      "/anaconda3/lib/python3.7/site-packages/qiskit/providers/ibmq/ibmqfactory.py:595: DeprecationWarning: IBMQ.get_backend() is being deprecated. Please use IBMQ.get_provider() to retrieve a provider and AccountProvider.get_backend(\"name\") to retrieve a backend.\n",
      "  DeprecationWarning)\n"
     ]
    },
    {
     "name": "stdout",
     "output_type": "stream",
     "text": [
      "{'0 0 1': 38, '1 1 1': 8, '0 1 0': 257, '1 0 0': 216, '0 0 0': 59, '0 1 1': 237, '1 1 0': 8, '1 0 1': 201}\n"
     ]
    },
    {
     "data": {
      "image/png": "[encoded data removed]",
      "text/plain": [
       "<Figure size 504x360 with 1 Axes>"
      ]
     },
     "execution_count": 166,
     "metadata": {},
     "output_type": "execute_result"
    }
   ],
   "source": [
    "from qiskit import IBMQ\n",
    "\n",
    "# para a primeira execucao, salve sua conta inserindo seu token na string indicada aqui embaixo.\n",
    "# sua chave se encontra nas configuracoes da sua conta da IBM (https://quantum-computing.ibm.com/account)\n",
    "#token = 'coloque seu token aqui'\n",
    "#IBMQ.save_account(token)\n",
    "\n",
    "#caso ja tenha salvo, voce so precisa carregar seu acesso com a funcao aqui embaixo\n",
    "IBMQ.load_account()\n",
    "\n",
    "q_psi = QuantumRegister(1, 'psi')\n",
    "q_bell = QuantumRegister(2, 'bell')\n",
    "read_alice0 = ClassicalRegister(1, 'alice_reading0')\n",
    "read_alice1 = ClassicalRegister(1, 'alice_reading1')\n",
    "read_bob = ClassicalRegister(1, 'bob_reading')\n",
    "\n",
    "circuito = QuantumCircuit(q_psi, q_bell, read_alice0, read_alice1, read_bob)\n",
    "\n",
    "#preparing Bell states\n",
    "\n",
    "circuito.iden(q_psi)\n",
    "circuito.h(q_bell[0])\n",
    "circuito.iden(q_bell[1])\n",
    "circuito.iden(q_psi)\n",
    "circuito.cx(q_bell[0], q_bell[1])\n",
    "circuito.barrier()\n",
    "\n",
    "\n",
    "#preparing PSI state (to be teletransported)\n",
    "circuito.x(q_psi) #teletransporting |1>\n",
    "#circuito.u3(0.0, 0.1, 0.0, q_psi) #teletransporting U3|0>\n",
    "circuito.iden(q_bell[0])\n",
    "circuito.iden(q_bell[1])\n",
    "circuito.barrier()\n",
    "\n",
    "#teleport circuit\n",
    "# H & CN\n",
    "circuito.cx(q_psi, q_bell[0])\n",
    "circuito.iden(q_bell[1])\n",
    "circuito.h(q_psi)\n",
    "circuito.iden(q_bell[0])\n",
    "circuito.iden(q_bell[1])\n",
    "circuito.barrier()\n",
    "#MEASUREMENT AND CLASSICAL CONTROL\n",
    "circuito.measure(q_psi, read_alice0)\n",
    "circuito.measure(q_bell[0], read_alice1)\n",
    "circuito.measure(q_bell[1], read_bob)\n",
    "\n",
    "circuito.barrier()\n",
    "\n",
    "#circuito.draw(output='mpl')\n",
    "circuit_drawer(circuito)\n",
    "#circuito.draw()\n",
    "\n",
    "backendMaquinaQ = IBMQ.get_backend('ibmq_london')\n",
    "job = execute(circuito, backend=backendMaquinaQ, shots=1024)\n",
    "\n",
    "result = job.result()\n",
    "print(result.get_counts(circuito))\n",
    "contagem = result.get_counts()\n",
    "plot_histogram(contagem)"
   ]
  },
  {
   "cell_type": "code",
   "execution_count": null,
   "metadata": {},
   "outputs": [],
   "source": []
  }
 ],
 "metadata": {
  "kernelspec": {
   "display_name": "Python 3",
   "language": "python",
   "name": "python3"
  },
  "language_info": {
   "codemirror_mode": {
    "name": "ipython",
    "version": 3
   },
   "file_extension": ".py",
   "mimetype": "text/x-python",
   "name": "python",
   "nbconvert_exporter": "python",
   "pygments_lexer": "ipython3",
   "version": "3.7.3"
  }
 },
 "nbformat": 4,
 "nbformat_minor": 2
}
