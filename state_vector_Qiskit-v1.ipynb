{
 "cells": [
  {
   "cell_type": "code",
   "execution_count": 1,
   "metadata": {},
   "outputs": [],
   "source": [
    "#exemplo de captura do vetor de estado quântico após a aplicação de circuito quântico\n",
    "#qiskit 1.0"
   ]
  },
  {
   "cell_type": "code",
   "execution_count": 2,
   "metadata": {
    "colab": {
     "base_uri": "https://localhost:8080/",
     "height": 521
    },
    "id": "rVXD9mrzsiX4",
    "outputId": "a99cabb5-3881-4ac7-86e6-e9d3f1253a5e"
   },
   "outputs": [],
   "source": [
    "import numpy as np\n",
    "#from qiskit import *\n",
    "import scipy as sp\n",
    "from qiskit import QuantumCircuit#, execute, BasicAer\n",
    "import qiskit\n",
    "\n",
    "\n",
    "def ansatz1():\n",
    "\n",
    "    \"\"\"\n",
    "    Generate an templated ansatz that generates a Bell State\n",
    "\n",
    "    \n",
    "\n",
    "    Returns:\n",
    "    ansatz (QuantumCircuit): Generated Bell State Generator circuit\n",
    "\n",
    "\n",
    "    \"\"\"\n",
    "\n",
    "\n",
    "    ansatz = QuantumCircuit(2, 2)\n",
    "\n",
    "    ansatz.h(0)\n",
    "    ansatz.cx(0, 1)\n",
    "\n",
    "    return ansatz\n",
    "\n",
    "def ansatz2(params, num_qubits):\n",
    "\n",
    "    \"\"\"\n",
    "    Generate an templated ansatz with given parameters\n",
    "\n",
    "\n",
    "    Args:\n",
    "\n",
    "    params (array[float]): Parameters to initialize the parameterized unitary.\n",
    "\n",
    "    num_qubits (int): Number of qubits in the circuit.\n",
    "\n",
    "\n",
    "\n",
    "    Returns:\n",
    "\n",
    "    ansatz (QuantumCircuit): Generated ansatz circuit\n",
    "\n",
    "\n",
    "    \"\"\"\n",
    "\n",
    "\n",
    "    ansatz = QuantumCircuit(num_qubits, num_qubits)\n",
    "\n",
    "    params = params.reshape(num_qubits,num_qubits)\n",
    "\n",
    "\n",
    "\n",
    "    for idx in range(num_qubits):\n",
    "\n",
    "      ansatz.rx(params[0][idx], idx)\n",
    "\n",
    "\n",
    "\n",
    "    ansatz.cx(0, 1)\n",
    "\n",
    "\n",
    "    for idx in range(num_qubits):\n",
    "\n",
    "      ansatz.rz(params[1][idx], idx)\n",
    "\n",
    "\n",
    "    return ansatz\n"
   ]
  },
  {
   "cell_type": "code",
   "execution_count": 3,
   "metadata": {},
   "outputs": [],
   "source": [
    "# example 1"
   ]
  },
  {
   "cell_type": "code",
   "execution_count": 4,
   "metadata": {},
   "outputs": [
    {
     "name": "stdout",
     "output_type": "stream",
     "text": [
      "     ┌───┐     \n",
      "q_0: ┤ H ├──■──\n",
      "     └───┘┌─┴─┐\n",
      "q_1: ─────┤ X ├\n",
      "          └───┘\n",
      "c: 2/══════════\n",
      "               \n"
     ]
    }
   ],
   "source": [
    "ansatz = ansatz1()\n",
    "print(ansatz)"
   ]
  },
  {
   "cell_type": "code",
   "execution_count": 5,
   "metadata": {},
   "outputs": [
    {
     "name": "stdout",
     "output_type": "stream",
     "text": [
      "Statevector([0.70710678+0.j, 0.        +0.j, 0.        +0.j,\n",
      "             0.70710678+0.j],\n",
      "            dims=(2, 2))\n"
     ]
    }
   ],
   "source": [
    "from qiskit.quantum_info import Statevector\n",
    "result = Statevector.from_instruction(ansatz)\n",
    "print(result)"
   ]
  },
  {
   "cell_type": "code",
   "execution_count": 6,
   "metadata": {},
   "outputs": [],
   "source": [
    "#example 2"
   ]
  },
  {
   "cell_type": "code",
   "execution_count": 7,
   "metadata": {
    "id": "-vKDHnfxuh2Q"
   },
   "outputs": [
    {
     "name": "stdout",
     "output_type": "stream",
     "text": [
      "     ┌─────────────┐     ┌───────────┐ \n",
      "q_0: ┤ Rx(0.44638) ├──■──┤ Rz(-2.17) ├─\n",
      "     └┬────────────┤┌─┴─┐├───────────┴┐\n",
      "q_1: ─┤ Rx(1.7736) ├┤ X ├┤ Rz(2.6116) ├\n",
      "      └────────────┘└───┘└────────────┘\n",
      "c: 2/══════════════════════════════════\n",
      "                                       \n"
     ]
    }
   ],
   "source": [
    "N=2\n",
    "params= np.random.uniform(-np.pi, np.pi, (N,N))\n",
    "\n",
    "ansatz = ansatz2(params, N)\n",
    "print(ansatz)"
   ]
  },
  {
   "cell_type": "code",
   "execution_count": 8,
   "metadata": {
    "id": "n7Buo7OksmPR"
   },
   "outputs": [
    {
     "name": "stdout",
     "output_type": "stream",
     "text": [
      "Statevector([0.60127684-0.13497015j, 0.12542729+0.11703229j,\n",
      "             0.51562883+0.5526161j , 0.03063418-0.13647182j],\n",
      "            dims=(2, 2))\n"
     ]
    }
   ],
   "source": [
    "from qiskit.quantum_info import Statevector\n",
    "result = Statevector.from_instruction(ansatz)\n",
    "print(result)"
   ]
  },
  {
   "cell_type": "code",
   "execution_count": null,
   "metadata": {},
   "outputs": [],
   "source": []
  },
  {
   "cell_type": "code",
   "execution_count": null,
   "metadata": {},
   "outputs": [],
   "source": []
  }
 ],
 "metadata": {
  "colab": {
   "provenance": []
  },
  "kernelspec": {
   "display_name": "Python 3 (ipykernel)",
   "language": "python",
   "name": "python3"
  },
  "language_info": {
   "codemirror_mode": {
    "name": "ipython",
    "version": 3
   },
   "file_extension": ".py",
   "mimetype": "text/x-python",
   "name": "python",
   "nbconvert_exporter": "python",
   "pygments_lexer": "ipython3",
   "version": "3.12.3"
  }
 },
 "nbformat": 4,
 "nbformat_minor": 4
}
