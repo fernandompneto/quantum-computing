{
 "cells": [
  {
   "cell_type": "markdown",
   "id": "a30c943f",
   "metadata": {},
   "source": [
    "# Sobre o traço parcial - Implementações em Python"
   ]
  },
  {
   "cell_type": "markdown",
   "id": "be0d9f2a",
   "metadata": {},
   "source": [
    "Tutorial criado por Fernando M de Paula Neto (fernando@cin.ufpe.br) para fins didáticos."
   ]
  },
  {
   "cell_type": "markdown",
   "id": "a0d9c8b1",
   "metadata": {},
   "source": [
    "Imagine que você tenha dois sistemas X e Y. Esses sistemas existem separados, mas você pode juntá-los (Sistema XY) para efetuar alguma operação. Para deixar nosso problema o mais simples possível, imagine que você junta os dois sistemas, Sistema XY, mas não aplica nenhuma operação sobre este sistema composto. Logo em seguida, você quer saber como ficou o sistema X e como ficou o sistema Y. Devem estar o mesmo que antes, certo? Certo! A operação de traço parcial recupera a informação dos sistemas compostos.\n",
    "\n",
    "Para isso, vamos criar os sistemas, sistema X e sistema Y, assim como o sistema que é composto pela união dos sistemas: sistema XY."
   ]
  },
  {
   "cell_type": "code",
   "execution_count": 1,
   "id": "42a755c5",
   "metadata": {},
   "outputs": [
    {
     "name": "stdout",
     "output_type": "stream",
     "text": [
      "[[ 43  21  86  42 129  63 172  84]\n",
      " [ 12  16  24  32  36  48  48  64]\n",
      " [215 105 258 126 301 147 344 168]\n",
      " [ 60  80  72  96  84 112  96 128]\n",
      " [387 189 430 210 473 231 516 252]\n",
      " [108 144 120 160 132 176 144 192]\n",
      " [559 273 602 294 645 315 688 336]\n",
      " [156 208 168 224 180 240 192 256]]\n"
     ]
    }
   ],
   "source": [
    "import numpy as np\n",
    "\n",
    "systemX = np.array([[1, 2, 3, 4], [5, 6, 7, 8], [9, 10, 11, 12], [13, 14, 15, 16]])\n",
    "dimension_X = 4\n",
    "\n",
    "systemY = np.array([[43, 21], [12, 16]])\n",
    "dimension_Y = 2\n",
    "\n",
    "systemXY = np.kron(systemX, systemY)\n",
    "\n",
    "print(systemXY)"
   ]
  },
  {
   "cell_type": "markdown",
   "id": "64def709",
   "metadata": {},
   "source": [
    "Vamos agora recuperar o sistema X usando a função de traço parcial da biblioteca _toqito_. Na chamada da função, dizemos que queremos recuperar o primeiro sistema (sys=2) e dizemos que o sistema X tem dimensão 4 e o sistema Y tem dimensão 2 (dim=[4,2])."
   ]
  },
  {
   "cell_type": "code",
   "execution_count": 2,
   "id": "d3fe53da",
   "metadata": {},
   "outputs": [
    {
     "data": {
      "text/plain": [
       "array([[ 59, 118, 177, 236],\n",
       "       [295, 354, 413, 472],\n",
       "       [531, 590, 649, 708],\n",
       "       [767, 826, 885, 944]])"
      ]
     },
     "execution_count": 2,
     "metadata": {},
     "output_type": "execute_result"
    }
   ],
   "source": [
    "from toqito.channels import partial_trace\n",
    "partial_trace(systemXY, sys=2,dim=[dimension_X, dimension_Y])"
   ]
  },
  {
   "cell_type": "markdown",
   "id": "c13738b9",
   "metadata": {},
   "source": [
    "Parece que temos um problema! O sistema X modificou? Não, ele continua o mesmo, a menos de uma constante multiplicativa... Se dividirmos a matriz resultante por 59, recuperamos exatamente X."
   ]
  },
  {
   "cell_type": "code",
   "execution_count": 3,
   "id": "781f493d",
   "metadata": {},
   "outputs": [
    {
     "data": {
      "text/plain": [
       "array([[ 1.,  2.,  3.,  4.],\n",
       "       [ 5.,  6.,  7.,  8.],\n",
       "       [ 9., 10., 11., 12.],\n",
       "       [13., 14., 15., 16.]])"
      ]
     },
     "execution_count": 3,
     "metadata": {},
     "output_type": "execute_result"
    }
   ],
   "source": [
    "partial_trace(systemXY, sys=2,dim=[4,2])/59"
   ]
  },
  {
   "cell_type": "markdown",
   "id": "0194af0b",
   "metadata": {},
   "source": [
    "Para recuperar o sistema Y... a constante multiplica neste caso é 34..."
   ]
  },
  {
   "cell_type": "code",
   "execution_count": 4,
   "id": "b012110d",
   "metadata": {},
   "outputs": [
    {
     "data": {
      "text/plain": [
       "array([[43., 21.],\n",
       "       [12., 16.]])"
      ]
     },
     "execution_count": 4,
     "metadata": {},
     "output_type": "execute_result"
    }
   ],
   "source": [
    "from toqito.channels import partial_trace\n",
    "partial_trace(systemXY, sys=1,dim=[4,2])/34"
   ]
  },
  {
   "cell_type": "markdown",
   "id": "bc06304f",
   "metadata": {},
   "source": [
    "## Traço Parcial em Sistemas Quânticos - Usando a biblioteca _toqito_"
   ]
  },
  {
   "cell_type": "markdown",
   "id": "a1d9741a",
   "metadata": {},
   "source": [
    "Os sistemas compostos quânticos quando separados pela operação de traço parcial não precisam das constantes multiplicativas... Dado um estado quântico representado como vetor, $|\\psi>$ ,encontramos o operador densidade correspondente fazendo $\\rho = |\\psi><\\psi|$. Este operador densidade é a matriz que representa este sistema.\n",
    "\n",
    "Vamos criar dois estados quânticos $[ \\frac{1}{\\sqrt{2}}, \\frac{1}{\\sqrt{2}} ] $ e $[\\sqrt{0.2}, \\sqrt{0.8}]$. Perceba que são estados quânticos válidos, pois a soma das normas ao quadrado das amplitudes vale 1.\n",
    "Os operadores densidades correspondentes são os sistemas A e B, respectivamente."
   ]
  },
  {
   "cell_type": "code",
   "execution_count": 5,
   "id": "b40dde0c",
   "metadata": {},
   "outputs": [],
   "source": [
    "def get_p(psi):\n",
    "    \"\"\"\n",
    "        Creates a matrix out of psi and multiply it against its inverse, \n",
    "        resulting in a column vector in the form [[alfa]. [beta]].\n",
    "        Does the operation |psi><psi| from Equation #18 or #19 in the Article.\n",
    "    \"\"\"\n",
    "    psi = np.array(psi)\n",
    "    return psi * psi.conj().T\n",
    "\n",
    "rho1 = get_p([[1/np.sqrt(2)],[1/np.sqrt(2)]])\n",
    "dimension_rho1 = 2\n",
    "rho2 = get_p([[np.sqrt(0.2)],[np.sqrt(0.8)]])\n",
    "dimension_rho2 = 2"
   ]
  },
  {
   "cell_type": "markdown",
   "id": "338d76a2",
   "metadata": {},
   "source": [
    "Sistema A é:"
   ]
  },
  {
   "cell_type": "code",
   "execution_count": 6,
   "id": "f12a2237",
   "metadata": {},
   "outputs": [
    {
     "data": {
      "text/plain": [
       "array([[0.5, 0.5],\n",
       "       [0.5, 0.5]])"
      ]
     },
     "execution_count": 6,
     "metadata": {},
     "output_type": "execute_result"
    }
   ],
   "source": [
    "rho1"
   ]
  },
  {
   "cell_type": "markdown",
   "id": "d9f841be",
   "metadata": {},
   "source": [
    "Sistema B é: "
   ]
  },
  {
   "cell_type": "code",
   "execution_count": 7,
   "id": "fb351410",
   "metadata": {},
   "outputs": [
    {
     "data": {
      "text/plain": [
       "array([[0.2, 0.4],\n",
       "       [0.4, 0.8]])"
      ]
     },
     "execution_count": 7,
     "metadata": {},
     "output_type": "execute_result"
    }
   ],
   "source": [
    "rho2"
   ]
  },
  {
   "cell_type": "markdown",
   "id": "8c7519a1",
   "metadata": {},
   "source": [
    "Para unir os dois sistemas, temos Sistema AB = $A \\otimes B$"
   ]
  },
  {
   "cell_type": "code",
   "execution_count": 8,
   "id": "fe2d261b",
   "metadata": {},
   "outputs": [
    {
     "data": {
      "text/plain": [
       "array([[0.1, 0.2, 0.1, 0.2],\n",
       "       [0.2, 0.4, 0.2, 0.4],\n",
       "       [0.1, 0.2, 0.1, 0.2],\n",
       "       [0.2, 0.4, 0.2, 0.4]])"
      ]
     },
     "execution_count": 8,
     "metadata": {},
     "output_type": "execute_result"
    }
   ],
   "source": [
    "systemAB = np.kron(rho1, rho2)\n",
    "systemAB"
   ]
  },
  {
   "cell_type": "markdown",
   "id": "d9db7276",
   "metadata": {},
   "source": [
    "Para recuperar o sistema quântico A... (sem precisar de constante multiplicativa)"
   ]
  },
  {
   "cell_type": "code",
   "execution_count": 9,
   "id": "7582a5ad",
   "metadata": {},
   "outputs": [
    {
     "data": {
      "text/plain": [
       "array([[0.5, 0.5],\n",
       "       [0.5, 0.5]])"
      ]
     },
     "execution_count": 9,
     "metadata": {},
     "output_type": "execute_result"
    }
   ],
   "source": [
    "partial_trace(systemAB, sys=2,dim=[dimension_rho1,dimension_rho2])"
   ]
  },
  {
   "cell_type": "markdown",
   "id": "f5842edf",
   "metadata": {},
   "source": [
    "Para recuperar o sistema quântico B..."
   ]
  },
  {
   "cell_type": "code",
   "execution_count": 10,
   "id": "64c9cd9a",
   "metadata": {},
   "outputs": [
    {
     "data": {
      "text/plain": [
       "array([[0.2, 0.4],\n",
       "       [0.4, 0.8]])"
      ]
     },
     "execution_count": 10,
     "metadata": {},
     "output_type": "execute_result"
    }
   ],
   "source": [
    "partial_trace(systemAB, sys=1,dim=[dimension_rho1, dimension_rho2])"
   ]
  },
  {
   "cell_type": "markdown",
   "id": "b6a422ee",
   "metadata": {},
   "source": [
    "Vamos ver um outro exemplo com dois estados quânticos de dimensões diferentes (um de dimensão 4 e outro de dimensão 2):"
   ]
  },
  {
   "cell_type": "code",
   "execution_count": 11,
   "id": "a51eaaca",
   "metadata": {},
   "outputs": [],
   "source": [
    "rho3 = get_p([[1/np.sqrt(4)],[1/np.sqrt(4)], [1/np.sqrt(4)], [1/np.sqrt(4)]])\n",
    "dimension_rho3 = 4\n",
    "rho4 = get_p([[np.sqrt(0.1)],[np.sqrt(0.9)]])\n",
    "dimension_rho4 = 2"
   ]
  },
  {
   "cell_type": "code",
   "execution_count": 12,
   "id": "2f04a68f",
   "metadata": {},
   "outputs": [
    {
     "data": {
      "text/plain": [
       "array([[0.25, 0.25, 0.25, 0.25],\n",
       "       [0.25, 0.25, 0.25, 0.25],\n",
       "       [0.25, 0.25, 0.25, 0.25],\n",
       "       [0.25, 0.25, 0.25, 0.25]])"
      ]
     },
     "execution_count": 12,
     "metadata": {},
     "output_type": "execute_result"
    }
   ],
   "source": [
    "rho3"
   ]
  },
  {
   "cell_type": "code",
   "execution_count": 13,
   "id": "c0e44a65",
   "metadata": {},
   "outputs": [
    {
     "data": {
      "text/plain": [
       "array([[0.1, 0.3],\n",
       "       [0.3, 0.9]])"
      ]
     },
     "execution_count": 13,
     "metadata": {},
     "output_type": "execute_result"
    }
   ],
   "source": [
    "rho4"
   ]
  },
  {
   "cell_type": "code",
   "execution_count": 14,
   "id": "14c81bd8",
   "metadata": {},
   "outputs": [
    {
     "data": {
      "text/plain": [
       "array([[0.025, 0.075, 0.025, 0.075, 0.025, 0.075, 0.025, 0.075],\n",
       "       [0.075, 0.225, 0.075, 0.225, 0.075, 0.225, 0.075, 0.225],\n",
       "       [0.025, 0.075, 0.025, 0.075, 0.025, 0.075, 0.025, 0.075],\n",
       "       [0.075, 0.225, 0.075, 0.225, 0.075, 0.225, 0.075, 0.225],\n",
       "       [0.025, 0.075, 0.025, 0.075, 0.025, 0.075, 0.025, 0.075],\n",
       "       [0.075, 0.225, 0.075, 0.225, 0.075, 0.225, 0.075, 0.225],\n",
       "       [0.025, 0.075, 0.025, 0.075, 0.025, 0.075, 0.025, 0.075],\n",
       "       [0.075, 0.225, 0.075, 0.225, 0.075, 0.225, 0.075, 0.225]])"
      ]
     },
     "execution_count": 14,
     "metadata": {},
     "output_type": "execute_result"
    }
   ],
   "source": [
    "systemCD = np.kron(rho3, rho4)\n",
    "systemCD"
   ]
  },
  {
   "cell_type": "markdown",
   "id": "3b9df239",
   "metadata": {},
   "source": [
    "Agora, separando os sistemas... Encontrando primeiro o sistema C, em seguida o sistema D..."
   ]
  },
  {
   "cell_type": "code",
   "execution_count": 15,
   "id": "c4efa5bb",
   "metadata": {},
   "outputs": [
    {
     "data": {
      "text/plain": [
       "array([[0.25, 0.25, 0.25, 0.25],\n",
       "       [0.25, 0.25, 0.25, 0.25],\n",
       "       [0.25, 0.25, 0.25, 0.25],\n",
       "       [0.25, 0.25, 0.25, 0.25]])"
      ]
     },
     "execution_count": 15,
     "metadata": {},
     "output_type": "execute_result"
    }
   ],
   "source": [
    "partial_trace(systemCD, sys=2,dim=[dimension_rho3, dimension_rho4])"
   ]
  },
  {
   "cell_type": "code",
   "execution_count": 16,
   "id": "8adcd076",
   "metadata": {},
   "outputs": [
    {
     "data": {
      "text/plain": [
       "array([[0.1, 0.3],\n",
       "       [0.3, 0.9]])"
      ]
     },
     "execution_count": 16,
     "metadata": {},
     "output_type": "execute_result"
    }
   ],
   "source": [
    "partial_trace(systemCD, sys=1,dim=[dimension_rho3, dimension_rho4])"
   ]
  },
  {
   "cell_type": "markdown",
   "id": "6a043db9",
   "metadata": {},
   "source": [
    "## Usando a biblioteca _Numpy_"
   ]
  },
  {
   "cell_type": "markdown",
   "id": "0ead7c38",
   "metadata": {},
   "source": [
    "Podemos usar a biblioteca _Numpy_ para calcular o traço parcial, usando a função _trace_ e passando os argumentos corretos para os parâmetros _axis1_ e _axis2_ da função. Vamos usar os mesmos sistemas do exemplo imediatamente anterior, do sistema CD. \n",
    "\n",
    "Para recuperar ambos os sitemas em separado, primeiro é necessário fazer um redimensionamento (reshape) do sistema CD para uma matriz de dimensão (dimension_rho1 $\\times$ dimension_rho2 $\\times$ dimension_rho1 $\\times$ dimension_rho2).\n",
    "\n",
    "Em seguida, configuramos os parâmetros axis1 e axis2 a depender de qual sistema queremos recuperar.\n",
    "\n",
    "Para recuperar o sistema C, precisamos passar ocmo parâmetro o axis1=1 e axis2=3."
   ]
  },
  {
   "cell_type": "code",
   "execution_count": 17,
   "id": "468a9441",
   "metadata": {},
   "outputs": [
    {
     "data": {
      "text/plain": [
       "array([[0.25, 0.25, 0.25, 0.25],\n",
       "       [0.25, 0.25, 0.25, 0.25],\n",
       "       [0.25, 0.25, 0.25, 0.25],\n",
       "       [0.25, 0.25, 0.25, 0.25]])"
      ]
     },
     "execution_count": 17,
     "metadata": {},
     "output_type": "execute_result"
    }
   ],
   "source": [
    "np.trace(systemCD.reshape([dimension_rho3, dimension_rho4, dimension_rho3, dimension_rho4]), axis1=1, axis2=3)"
   ]
  },
  {
   "cell_type": "markdown",
   "id": "d454340f",
   "metadata": {},
   "source": [
    "Para recuperar o sistema D, precisamos passar como parâmetro o axis1=0 e axis2=2."
   ]
  },
  {
   "cell_type": "code",
   "execution_count": 18,
   "id": "f0e6b9b0",
   "metadata": {},
   "outputs": [
    {
     "data": {
      "text/plain": [
       "array([[0.1, 0.3],\n",
       "       [0.3, 0.9]])"
      ]
     },
     "execution_count": 18,
     "metadata": {},
     "output_type": "execute_result"
    }
   ],
   "source": [
    "np.trace(systemCD.reshape([dimension_rho3, dimension_rho4, dimension_rho3, dimension_rho4]), axis1=0, axis2=2)"
   ]
  },
  {
   "cell_type": "code",
   "execution_count": null,
   "id": "a7d4f64f",
   "metadata": {},
   "outputs": [],
   "source": []
  }
 ],
 "metadata": {
  "kernelspec": {
   "display_name": "Python 3",
   "language": "python",
   "name": "python3"
  },
  "language_info": {
   "codemirror_mode": {
    "name": "ipython",
    "version": 3
   },
   "file_extension": ".py",
   "mimetype": "text/x-python",
   "name": "python",
   "nbconvert_exporter": "python",
   "pygments_lexer": "ipython3",
   "version": "3.8.8"
  }
 },
 "nbformat": 4,
 "nbformat_minor": 5
}
