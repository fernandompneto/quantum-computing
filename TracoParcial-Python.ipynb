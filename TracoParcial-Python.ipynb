{
 "cells": [
  {
   "cell_type": "markdown",
   "id": "a8dd3cb6",
   "metadata": {},
   "source": [
    "# Sobre o traço parcial - Implementações em Python"
   ]
  },
  {
   "cell_type": "markdown",
   "id": "2c5eec59",
   "metadata": {},
   "source": [
    "Tutorial criado por Fernando M de Paula Neto (fernando@cin.ufpe.br) para fins didáticos."
   ]
  },
  {
   "cell_type": "markdown",
   "id": "2f53827e",
   "metadata": {},
   "source": [
    "Imagine que você tenha dois sistemas X e Y. Esses sistemas existem separados, mas você pode juntá-los (Sistema XY) para efetuar alguma operação. Para deixar nosso problema o mais simples possível, imagine que você junta os dois sistemas, Sistema XY, mas não aplica nenhuma operação sobre este sistema composto. Logo em seguida, você quer saber como ficou o sistema X e como ficou o sistema Y. Devem estar o mesmo que antes, certo? Certo! A operação de traço parcial recupera a informação dos sistemas compostos.\n",
    "\n",
    "Para isso, vamos criar os sistemas, sistema X e sistema Y, assim como o sistema que é composto pela união dos sistemas: sistema XY."
   ]
  },
  {
   "cell_type": "code",
   "execution_count": 1,
   "id": "e4a3b1fc",
   "metadata": {},
   "outputs": [
    {
     "name": "stdout",
     "output_type": "stream",
     "text": [
      "[[ 43  21  86  42 129  63 172  84]\n",
      " [ 12  16  24  32  36  48  48  64]\n",
      " [215 105 258 126 301 147 344 168]\n",
      " [ 60  80  72  96  84 112  96 128]\n",
      " [387 189 430 210 473 231 516 252]\n",
      " [108 144 120 160 132 176 144 192]\n",
      " [559 273 602 294 645 315 688 336]\n",
      " [156 208 168 224 180 240 192 256]]\n"
     ]
    }
   ],
   "source": [
    "import numpy as np\n",
    "\n",
    "systemX = np.array([[1, 2, 3, 4], [5, 6, 7, 8], [9, 10, 11, 12], [13, 14, 15, 16]])\n",
    "dimension_X = 4\n",
    "\n",
    "systemY = np.array([[43, 21], [12, 16]])\n",
    "dimension_Y = 2\n",
    "\n",
    "systemXY = np.kron(systemX, systemY)\n",
    "\n",
    "print(systemXY)"
   ]
  },
  {
   "cell_type": "markdown",
   "id": "b19b919f",
   "metadata": {},
   "source": [
    "Vamos agora recuperar o sistema X usando a função de traço parcial da biblioteca _toqito_. Na chamada da função, dizemos que queremos recuperar o primeiro sistema (sys=1) e dizemos que o sistema X tem dimensão 4 e o sistema Y tem dimensão 2 (dim=[4,2])."
   ]
  },
  {
   "cell_type": "code",
   "execution_count": 2,
   "id": "c0be0303",
   "metadata": {},
   "outputs": [
    {
     "data": {
      "text/plain": [
       "array([[1462,  714],\n",
       "       [ 408,  544]])"
      ]
     },
     "execution_count": 2,
     "metadata": {},
     "output_type": "execute_result"
    }
   ],
   "source": [
    "from toqito.channels import partial_trace\n",
    "partial_trace(systemXY, sys=1,dim=[dimension_X, dimension_Y])"
   ]
  },
  {
   "cell_type": "markdown",
   "id": "a41b2bde",
   "metadata": {},
   "source": [
    "Parece que temos um problema! O sistema X modificou? Não, ele continua o mesmo, a menos de uma constante multiplicativa... Se dividirmos a matriz resultante por 34, recuperamos exatamente X."
   ]
  },
  {
   "cell_type": "code",
   "execution_count": 3,
   "id": "ed71d40b",
   "metadata": {},
   "outputs": [
    {
     "data": {
      "text/plain": [
       "array([[43., 21.],\n",
       "       [12., 16.]])"
      ]
     },
     "execution_count": 3,
     "metadata": {},
     "output_type": "execute_result"
    }
   ],
   "source": [
    "partial_trace(systemXY, sys=1,dim=[4,2])/34"
   ]
  },
  {
   "cell_type": "markdown",
   "id": "6dcdd1b3",
   "metadata": {},
   "source": [
    "Para recuperar o sistema Y... a constante multiplica neste caso é 59..."
   ]
  },
  {
   "cell_type": "code",
   "execution_count": 4,
   "id": "a25f17f6",
   "metadata": {},
   "outputs": [
    {
     "data": {
      "text/plain": [
       "array([[ 1.,  2.,  3.,  4.],\n",
       "       [ 5.,  6.,  7.,  8.],\n",
       "       [ 9., 10., 11., 12.],\n",
       "       [13., 14., 15., 16.]])"
      ]
     },
     "execution_count": 4,
     "metadata": {},
     "output_type": "execute_result"
    }
   ],
   "source": [
    "from toqito.channels import partial_trace\n",
    "partial_trace(systemXY, sys=2,dim=[4,2])/59"
   ]
  },
  {
   "cell_type": "markdown",
   "id": "30475ea0",
   "metadata": {},
   "source": [
    "## Traço Parcial em Sistemas Quânticos - Usando a biblioteca _toqito_"
   ]
  },
  {
   "cell_type": "markdown",
   "id": "f2ff54bc",
   "metadata": {},
   "source": [
    "Os sistemas compostos quânticos quando separados pela operação de traço parcial não precisam das constantes multiplicativas... Dado um estado quântico representado como vetor, $|\\psi>$ ,encontramos o operador densidade correspondente fazendo $\\rho = |\\psi><\\psi|$. Este operador densidade é a matriz que representa este sistema.\n",
    "\n",
    "Vamos criar dois estados quânticos $[ \\frac{1}{\\sqrt{2}}, \\frac{1}{\\sqrt{2}} ] $ e $[\\sqrt{0.2}, \\sqrt{0.8}]$. Perceba que são estados quânticos válidos, pois a soma das normas ao quadrado das amplitudes vale 1.\n",
    "Os operadores densidades correspondentes são os sistemas A e B, respectivamente."
   ]
  },
  {
   "cell_type": "code",
   "execution_count": 5,
   "id": "9be7b9a9",
   "metadata": {},
   "outputs": [],
   "source": [
    "def get_p(psi):\n",
    "    \"\"\"\n",
    "        Creates a matrix out of psi and multiply it against its inverse, \n",
    "        resulting in a column vector in the form [[alfa]. [beta]].\n",
    "        Does the operation |psi><psi| from Equation #18 or #19 in the Article.\n",
    "    \"\"\"\n",
    "    psi = np.array(psi)\n",
    "    return psi * psi.conj().T\n",
    "\n",
    "rho1 = get_p([[1/np.sqrt(2)],[1/np.sqrt(2)]])\n",
    "dimension_rho1 = 2\n",
    "rho2 = get_p([[np.sqrt(0.2)],[np.sqrt(0.8)]])\n",
    "dimension_rho2 = 2"
   ]
  },
  {
   "cell_type": "markdown",
   "id": "097bf46b",
   "metadata": {},
   "source": [
    "Sistema A é:"
   ]
  },
  {
   "cell_type": "code",
   "execution_count": 6,
   "id": "0273eecb",
   "metadata": {},
   "outputs": [
    {
     "data": {
      "text/plain": [
       "array([[0.5, 0.5],\n",
       "       [0.5, 0.5]])"
      ]
     },
     "execution_count": 6,
     "metadata": {},
     "output_type": "execute_result"
    }
   ],
   "source": [
    "rho1"
   ]
  },
  {
   "cell_type": "markdown",
   "id": "5d155d5f",
   "metadata": {},
   "source": [
    "Sistema B é: "
   ]
  },
  {
   "cell_type": "code",
   "execution_count": 7,
   "id": "6b704fc3",
   "metadata": {},
   "outputs": [
    {
     "data": {
      "text/plain": [
       "array([[0.2, 0.4],\n",
       "       [0.4, 0.8]])"
      ]
     },
     "execution_count": 7,
     "metadata": {},
     "output_type": "execute_result"
    }
   ],
   "source": [
    "rho2"
   ]
  },
  {
   "cell_type": "markdown",
   "id": "361ec90f",
   "metadata": {},
   "source": [
    "Para unir os dois sistemas, temos Sistema AB = $A \\otimes B$"
   ]
  },
  {
   "cell_type": "code",
   "execution_count": 8,
   "id": "4e1ec281",
   "metadata": {},
   "outputs": [
    {
     "data": {
      "text/plain": [
       "array([[0.1, 0.2, 0.1, 0.2],\n",
       "       [0.2, 0.4, 0.2, 0.4],\n",
       "       [0.1, 0.2, 0.1, 0.2],\n",
       "       [0.2, 0.4, 0.2, 0.4]])"
      ]
     },
     "execution_count": 8,
     "metadata": {},
     "output_type": "execute_result"
    }
   ],
   "source": [
    "systemAB = np.kron(rho1, rho2)\n",
    "systemAB"
   ]
  },
  {
   "cell_type": "markdown",
   "id": "34174be8",
   "metadata": {},
   "source": [
    "Para recuperar o sistema quântico A... (sem precisar de constante multiplicativa)"
   ]
  },
  {
   "cell_type": "code",
   "execution_count": 9,
   "id": "3f1ff34d",
   "metadata": {},
   "outputs": [
    {
     "data": {
      "text/plain": [
       "array([[0.5, 0.5],\n",
       "       [0.5, 0.5]])"
      ]
     },
     "execution_count": 9,
     "metadata": {},
     "output_type": "execute_result"
    }
   ],
   "source": [
    "partial_trace(systemAB, sys=2,dim=[dimension_rho1,dimension_rho2])"
   ]
  },
  {
   "cell_type": "markdown",
   "id": "a9aa77f5",
   "metadata": {},
   "source": [
    "Para recuperar o sistema quântico B..."
   ]
  },
  {
   "cell_type": "code",
   "execution_count": 10,
   "id": "1bd2cbe6",
   "metadata": {},
   "outputs": [
    {
     "data": {
      "text/plain": [
       "array([[0.2, 0.4],\n",
       "       [0.4, 0.8]])"
      ]
     },
     "execution_count": 10,
     "metadata": {},
     "output_type": "execute_result"
    }
   ],
   "source": [
    "partial_trace(systemAB, sys=1,dim=[dimension_rho1, dimension_rho2])"
   ]
  },
  {
   "cell_type": "markdown",
   "id": "b1f04889",
   "metadata": {},
   "source": [
    "Vamos ver um outro exemplo com dois estados quânticos de dimensões diferentes (um de dimensão 4 e outro de dimensão 2):"
   ]
  },
  {
   "cell_type": "code",
   "execution_count": 11,
   "id": "21737ebc",
   "metadata": {},
   "outputs": [],
   "source": [
    "rho3 = get_p([[1/np.sqrt(4)],[1/np.sqrt(4)], [1/np.sqrt(4)], [1/np.sqrt(4)]])\n",
    "dimension_rho3 = 4\n",
    "rho4 = get_p([[np.sqrt(0.1)],[np.sqrt(0.9)]])\n",
    "dimension_rho4 = 2"
   ]
  },
  {
   "cell_type": "code",
   "execution_count": 12,
   "id": "e46c0707",
   "metadata": {},
   "outputs": [
    {
     "data": {
      "text/plain": [
       "array([[0.25, 0.25, 0.25, 0.25],\n",
       "       [0.25, 0.25, 0.25, 0.25],\n",
       "       [0.25, 0.25, 0.25, 0.25],\n",
       "       [0.25, 0.25, 0.25, 0.25]])"
      ]
     },
     "execution_count": 12,
     "metadata": {},
     "output_type": "execute_result"
    }
   ],
   "source": [
    "rho3"
   ]
  },
  {
   "cell_type": "code",
   "execution_count": 13,
   "id": "08ed4043",
   "metadata": {},
   "outputs": [
    {
     "data": {
      "text/plain": [
       "array([[0.1, 0.3],\n",
       "       [0.3, 0.9]])"
      ]
     },
     "execution_count": 13,
     "metadata": {},
     "output_type": "execute_result"
    }
   ],
   "source": [
    "rho4"
   ]
  },
  {
   "cell_type": "code",
   "execution_count": 14,
   "id": "9c9bc113",
   "metadata": {},
   "outputs": [
    {
     "data": {
      "text/plain": [
       "array([[0.025, 0.075, 0.025, 0.075, 0.025, 0.075, 0.025, 0.075],\n",
       "       [0.075, 0.225, 0.075, 0.225, 0.075, 0.225, 0.075, 0.225],\n",
       "       [0.025, 0.075, 0.025, 0.075, 0.025, 0.075, 0.025, 0.075],\n",
       "       [0.075, 0.225, 0.075, 0.225, 0.075, 0.225, 0.075, 0.225],\n",
       "       [0.025, 0.075, 0.025, 0.075, 0.025, 0.075, 0.025, 0.075],\n",
       "       [0.075, 0.225, 0.075, 0.225, 0.075, 0.225, 0.075, 0.225],\n",
       "       [0.025, 0.075, 0.025, 0.075, 0.025, 0.075, 0.025, 0.075],\n",
       "       [0.075, 0.225, 0.075, 0.225, 0.075, 0.225, 0.075, 0.225]])"
      ]
     },
     "execution_count": 14,
     "metadata": {},
     "output_type": "execute_result"
    }
   ],
   "source": [
    "systemCD = np.kron(rho3, rho4)\n",
    "systemCD"
   ]
  },
  {
   "cell_type": "markdown",
   "id": "1cf8ff36",
   "metadata": {},
   "source": [
    "Agora, separando os sistemas"
   ]
  },
  {
   "cell_type": "code",
   "execution_count": 15,
   "id": "8a3a7cff",
   "metadata": {},
   "outputs": [
    {
     "data": {
      "text/plain": [
       "array([[0.1, 0.3],\n",
       "       [0.3, 0.9]])"
      ]
     },
     "execution_count": 15,
     "metadata": {},
     "output_type": "execute_result"
    }
   ],
   "source": [
    "partial_trace(systemCD, sys=1,dim=[dimension_rho3, dimension_rho4])"
   ]
  },
  {
   "cell_type": "code",
   "execution_count": 16,
   "id": "49f73c26",
   "metadata": {},
   "outputs": [
    {
     "data": {
      "text/plain": [
       "array([[0.25, 0.25, 0.25, 0.25],\n",
       "       [0.25, 0.25, 0.25, 0.25],\n",
       "       [0.25, 0.25, 0.25, 0.25],\n",
       "       [0.25, 0.25, 0.25, 0.25]])"
      ]
     },
     "execution_count": 16,
     "metadata": {},
     "output_type": "execute_result"
    }
   ],
   "source": [
    "partial_trace(systemCD, sys=2,dim=[dimension_rho3, dimension_rho4])"
   ]
  },
  {
   "cell_type": "markdown",
   "id": "7a74a1c2",
   "metadata": {},
   "source": [
    "## Usando a biblioteca _Numpy_"
   ]
  },
  {
   "cell_type": "markdown",
   "id": "3992007d",
   "metadata": {},
   "source": [
    "Podemos usar a biblioteca _Numpy_ para calcular o traço parcial, usando a função _trace_ e passando os argumentos corretos para os parâmetros _axis1_ e _axis2_ da função. Vamos usar os mesmos sistemas do exemplo imediatamente anterior, do sistema CD. \n",
    "\n",
    "Para recuperar ambos os sitemas em separado, primeiro é necessário fazer um redimensionamento (reshape) do sistema CD para uma matriz de dimensão (dimension_rho1 $\\times$ dimension_rho2 $\\times$ dimension_rho1 $\\times$ dimension_rho2).\n",
    "\n",
    "Em seguida, configuramos os parâmetros axis1 e axis2 a depender de qual sistema queremos recuperar.\n",
    "\n",
    "Para recuperar o sistema C, precisamos passar como parâmetro o axis1=0 e axis2=2."
   ]
  },
  {
   "cell_type": "code",
   "execution_count": 17,
   "id": "cc08460d",
   "metadata": {},
   "outputs": [
    {
     "data": {
      "text/plain": [
       "array([[0.1, 0.3],\n",
       "       [0.3, 0.9]])"
      ]
     },
     "execution_count": 17,
     "metadata": {},
     "output_type": "execute_result"
    }
   ],
   "source": [
    "np.trace(systemCD.reshape([dimension_rho3, dimension_rho4, dimension_rho3, dimension_rho4]), axis1=0, axis2=2)"
   ]
  },
  {
   "cell_type": "markdown",
   "id": "830b26a2",
   "metadata": {},
   "source": [
    "Para recuperar o sistema D, precisamos passar ocmo parâmetro o axis1=1 e axis2=3."
   ]
  },
  {
   "cell_type": "code",
   "execution_count": 18,
   "id": "a0e553bb",
   "metadata": {},
   "outputs": [
    {
     "data": {
      "text/plain": [
       "array([[0.25, 0.25, 0.25, 0.25],\n",
       "       [0.25, 0.25, 0.25, 0.25],\n",
       "       [0.25, 0.25, 0.25, 0.25],\n",
       "       [0.25, 0.25, 0.25, 0.25]])"
      ]
     },
     "execution_count": 18,
     "metadata": {},
     "output_type": "execute_result"
    }
   ],
   "source": [
    "np.trace(systemCD.reshape([dimension_rho3, dimension_rho4, dimension_rho3, dimension_rho4]), axis1=1, axis2=3)"
   ]
  },
  {
   "cell_type": "code",
   "execution_count": null,
   "id": "39a37eda",
   "metadata": {},
   "outputs": [],
   "source": []
  }
 ],
 "metadata": {
  "kernelspec": {
   "display_name": "Python 3",
   "language": "python",
   "name": "python3"
  },
  "language_info": {
   "codemirror_mode": {
    "name": "ipython",
    "version": 3
   },
   "file_extension": ".py",
   "mimetype": "text/x-python",
   "name": "python",
   "nbconvert_exporter": "python",
   "pygments_lexer": "ipython3",
   "version": "3.8.8"
  }
 },
 "nbformat": 4,
 "nbformat_minor": 5
}
